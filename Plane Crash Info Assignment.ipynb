{
    "nbformat_minor": 1, 
    "cells": [
        {
            "source": "#### Install the necessary package.", 
            "cell_type": "markdown", 
            "metadata": {
                "collapsed": true
            }
        }, 
        {
            "execution_count": 1, 
            "cell_type": "code", 
            "metadata": {}, 
            "outputs": [
                {
                    "output_type": "stream", 
                    "name": "stdout", 
                    "text": "Collecting watson-developer-cloud==1.5\n\u001b[?25l  Downloading https://files.pythonhosted.org/packages/57/fc/1a76bd8d60a6912db4c3382d288b10e033548abaa6a55a1292dedfe63e35/watson-developer-cloud-1.5.0.tar.gz (215kB)\n\u001b[K     |\u2588\u2588\u2588\u2588\u2588\u2588\u2588\u2588\u2588\u2588\u2588\u2588\u2588\u2588\u2588\u2588\u2588\u2588\u2588\u2588\u2588\u2588\u2588\u2588\u2588\u2588\u2588\u2588\u2588\u2588\u2588\u2588| 225kB 11.8MB/s eta 0:00:01\n\u001b[?25hRequirement already satisfied: requests<3.0,>=2.0 in /opt/conda/envs/Python36/lib/python3.6/site-packages (from watson-developer-cloud==1.5) (2.21.0)\nRequirement already satisfied: python_dateutil>=2.5.3 in /opt/conda/envs/Python36/lib/python3.6/site-packages (from watson-developer-cloud==1.5) (2.7.5)\nCollecting autobahn>=0.10.9 (from watson-developer-cloud==1.5)\n\u001b[?25l  Downloading https://files.pythonhosted.org/packages/81/72/3c581483034645e1ccacad6528794ffb35a86209c8de575f643031d4d61f/autobahn-19.7.1-py2.py3-none-any.whl (710kB)\n\u001b[K     |\u2588\u2588\u2588\u2588\u2588\u2588\u2588\u2588\u2588\u2588\u2588\u2588\u2588\u2588\u2588\u2588\u2588\u2588\u2588\u2588\u2588\u2588\u2588\u2588\u2588\u2588\u2588\u2588\u2588\u2588\u2588\u2588| 716kB 20.3MB/s eta 0:00:01\n\u001b[?25hCollecting Twisted>=13.2.0 (from watson-developer-cloud==1.5)\n\u001b[?25l  Downloading https://files.pythonhosted.org/packages/79/59/035de19362320e632301ed7bbde23e4c8cd6fc5e2f1cf8d354cdba857854/Twisted-19.2.1.tar.bz2 (3.1MB)\n\u001b[K     |\u2588\u2588\u2588\u2588\u2588\u2588\u2588\u2588\u2588\u2588\u2588\u2588\u2588\u2588\u2588\u2588\u2588\u2588\u2588\u2588\u2588\u2588\u2588\u2588\u2588\u2588\u2588\u2588\u2588\u2588\u2588\u2588| 3.1MB 33.7MB/s eta 0:00:01\n\u001b[?25hRequirement already satisfied: pyOpenSSL>=16.2.0 in /opt/conda/envs/Python36/lib/python3.6/site-packages (from watson-developer-cloud==1.5) (19.0.0)\nCollecting service-identity>=17.0.0 (from watson-developer-cloud==1.5)\n  Downloading https://files.pythonhosted.org/packages/e9/7c/2195b890023e098f9618d43ebc337d83c8b38d414326685339eb024db2f6/service_identity-18.1.0-py2.py3-none-any.whl\nRequirement already satisfied: chardet<3.1.0,>=3.0.2 in /opt/conda/envs/Python36/lib/python3.6/site-packages (from requests<3.0,>=2.0->watson-developer-cloud==1.5) (3.0.4)\nRequirement already satisfied: certifi>=2017.4.17 in /opt/conda/envs/Python36/lib/python3.6/site-packages (from requests<3.0,>=2.0->watson-developer-cloud==1.5) (2019.6.16)\nRequirement already satisfied: idna<2.9,>=2.5 in /opt/conda/envs/Python36/lib/python3.6/site-packages (from requests<3.0,>=2.0->watson-developer-cloud==1.5) (2.8)\nRequirement already satisfied: urllib3<1.25,>=1.21.1 in /opt/conda/envs/Python36/lib/python3.6/site-packages (from requests<3.0,>=2.0->watson-developer-cloud==1.5) (1.24.1)\nRequirement already satisfied: six>=1.5 in /opt/conda/envs/Python36/lib/python3.6/site-packages (from python_dateutil>=2.5.3->watson-developer-cloud==1.5) (1.12.0)\nCollecting cryptography>=2.7 (from autobahn>=0.10.9->watson-developer-cloud==1.5)\n\u001b[?25l  Downloading https://files.pythonhosted.org/packages/97/18/c6557f63a6abde34707196fb2cad1c6dc0dbff25a200d5044922496668a4/cryptography-2.7-cp34-abi3-manylinux1_x86_64.whl (2.3MB)\n\u001b[K     |\u2588\u2588\u2588\u2588\u2588\u2588\u2588\u2588\u2588\u2588\u2588\u2588\u2588\u2588\u2588\u2588\u2588\u2588\u2588\u2588\u2588\u2588\u2588\u2588\u2588\u2588\u2588\u2588\u2588\u2588\u2588\u2588| 2.3MB 51.1MB/s eta 0:00:01\n\u001b[?25hCollecting txaio>=18.8.1 (from autobahn>=0.10.9->watson-developer-cloud==1.5)\n  Downloading https://files.pythonhosted.org/packages/e9/6d/e1a6f7835cde86728e5bb1f577be9b2d7d273fdb33c286e70b087d418ded/txaio-18.8.1-py2.py3-none-any.whl\nCollecting zope.interface>=4.4.2 (from Twisted>=13.2.0->watson-developer-cloud==1.5)\n\u001b[?25l  Downloading https://files.pythonhosted.org/packages/19/17/1d198a6aaa9aa4590862fe3d3a2ed7dd808050cab4eebe8a2f2f813c1376/zope.interface-4.6.0-cp36-cp36m-manylinux1_x86_64.whl (167kB)\n\u001b[K     |\u2588\u2588\u2588\u2588\u2588\u2588\u2588\u2588\u2588\u2588\u2588\u2588\u2588\u2588\u2588\u2588\u2588\u2588\u2588\u2588\u2588\u2588\u2588\u2588\u2588\u2588\u2588\u2588\u2588\u2588\u2588\u2588| 174kB 54.0MB/s eta 0:00:01\n\u001b[?25hCollecting constantly>=15.1 (from Twisted>=13.2.0->watson-developer-cloud==1.5)\n  Downloading https://files.pythonhosted.org/packages/b9/65/48c1909d0c0aeae6c10213340ce682db01b48ea900a7d9fce7a7910ff318/constantly-15.1.0-py2.py3-none-any.whl\nCollecting incremental>=16.10.1 (from Twisted>=13.2.0->watson-developer-cloud==1.5)\n  Downloading https://files.pythonhosted.org/packages/f5/1d/c98a587dc06e107115cf4a58b49de20b19222c83d75335a192052af4c4b7/incremental-17.5.0-py2.py3-none-any.whl\nCollecting Automat>=0.3.0 (from Twisted>=13.2.0->watson-developer-cloud==1.5)\n  Downloading https://files.pythonhosted.org/packages/a3/86/14c16bb98a5a3542ed8fed5d74fb064a902de3bdd98d6584b34553353c45/Automat-0.7.0-py2.py3-none-any.whl\nCollecting hyperlink>=17.1.1 (from Twisted>=13.2.0->watson-developer-cloud==1.5)\n  Downloading https://files.pythonhosted.org/packages/7f/91/e916ca10a2de1cb7101a9b24da546fb90ee14629e23160086cf3361c4fb8/hyperlink-19.0.0-py2.py3-none-any.whl\nCollecting PyHamcrest>=1.9.0 (from Twisted>=13.2.0->watson-developer-cloud==1.5)\n\u001b[?25l  Downloading https://files.pythonhosted.org/packages/9a/d5/d37fd731b7d0e91afcc84577edeccf4638b4f9b82f5ffe2f8b62e2ddc609/PyHamcrest-1.9.0-py2.py3-none-any.whl (52kB)\n\u001b[K     |\u2588\u2588\u2588\u2588\u2588\u2588\u2588\u2588\u2588\u2588\u2588\u2588\u2588\u2588\u2588\u2588\u2588\u2588\u2588\u2588\u2588\u2588\u2588\u2588\u2588\u2588\u2588\u2588\u2588\u2588\u2588\u2588| 61kB 39.5MB/s eta 0:00:01\n\u001b[?25hRequirement already satisfied: attrs>=17.4.0 in /opt/conda/envs/Python36/lib/python3.6/site-packages (from Twisted>=13.2.0->watson-developer-cloud==1.5) (18.2.0)\nCollecting pyasn1 (from service-identity>=17.0.0->watson-developer-cloud==1.5)\n\u001b[?25l  Downloading https://files.pythonhosted.org/packages/7b/7c/c9386b82a25115cccf1903441bba3cbadcfae7b678a20167347fa8ded34c/pyasn1-0.4.5-py2.py3-none-any.whl (73kB)\n\u001b[K     |\u2588\u2588\u2588\u2588\u2588\u2588\u2588\u2588\u2588\u2588\u2588\u2588\u2588\u2588\u2588\u2588\u2588\u2588\u2588\u2588\u2588\u2588\u2588\u2588\u2588\u2588\u2588\u2588\u2588\u2588\u2588\u2588| 81kB 42.6MB/s eta 0:00:01\n\u001b[?25hCollecting pyasn1-modules (from service-identity>=17.0.0->watson-developer-cloud==1.5)\n\u001b[?25l  Downloading https://files.pythonhosted.org/packages/91/f0/b03e00ce9fddf4827c42df1c3ce10c74eadebfb706231e8d6d1c356a4062/pyasn1_modules-0.2.5-py2.py3-none-any.whl (74kB)\n\u001b[K     |\u2588\u2588\u2588\u2588\u2588\u2588\u2588\u2588\u2588\u2588\u2588\u2588\u2588\u2588\u2588\u2588\u2588\u2588\u2588\u2588\u2588\u2588\u2588\u2588\u2588\u2588\u2588\u2588\u2588\u2588\u2588\u2588| 81kB 917kB/s eta 0:00:01\n\u001b[?25hRequirement already satisfied: asn1crypto>=0.21.0 in /opt/conda/envs/Python36/lib/python3.6/site-packages (from cryptography>=2.7->autobahn>=0.10.9->watson-developer-cloud==1.5) (0.24.0)\nRequirement already satisfied: cffi!=1.11.3,>=1.8 in /opt/conda/envs/Python36/lib/python3.6/site-packages (from cryptography>=2.7->autobahn>=0.10.9->watson-developer-cloud==1.5) (1.11.5)\nRequirement already satisfied: setuptools in /opt/conda/envs/Python36/lib/python3.6/site-packages (from zope.interface>=4.4.2->Twisted>=13.2.0->watson-developer-cloud==1.5) (40.8.0)\nRequirement already satisfied: pycparser in /opt/conda/envs/Python36/lib/python3.6/site-packages (from cffi!=1.11.3,>=1.8->cryptography>=2.7->autobahn>=0.10.9->watson-developer-cloud==1.5) (2.19)\nBuilding wheels for collected packages: watson-developer-cloud, Twisted\n  Building wheel for watson-developer-cloud (setup.py) ... \u001b[?25ldone\n\u001b[?25h  Stored in directory: /home/dsxuser/.cache/pip/wheels/81/cd/de/4e0916f623c2d125502e493394fd333ed693960264d4b7e524\n  Building wheel for Twisted (setup.py) ... \u001b[?25ldone\n\u001b[?25h  Stored in directory: /home/dsxuser/.cache/pip/wheels/19/4c/a1/0bef832134076abab3461815e92cf41f2518dffe1a5337203b\nSuccessfully built watson-developer-cloud Twisted\nInstalling collected packages: cryptography, txaio, autobahn, zope.interface, constantly, incremental, Automat, hyperlink, PyHamcrest, Twisted, pyasn1, pyasn1-modules, service-identity, watson-developer-cloud\n  Found existing installation: cryptography 2.5\n    Uninstalling cryptography-2.5:\n      Successfully uninstalled cryptography-2.5\nSuccessfully installed Automat-0.7.0 PyHamcrest-1.9.0 Twisted-19.2.1 autobahn-19.7.1 constantly-15.1.0 cryptography-2.7 hyperlink-19.0.0 incremental-17.5.0 pyasn1-0.4.5 pyasn1-modules-0.2.5 service-identity-18.1.0 txaio-18.8.1 watson-developer-cloud-1.5.0 zope.interface-4.6.0\n"
                }
            ], 
            "source": "!pip install watson-developer-cloud==1.5"
        }, 
        {
            "source": "#### Import the necessary libraries", 
            "cell_type": "markdown", 
            "metadata": {}
        }, 
        {
            "execution_count": 2, 
            "cell_type": "code", 
            "metadata": {}, 
            "outputs": [], 
            "source": "import requests\nimport urllib.request\nimport time\nimport datetime\nimport csv\nimport re\nfrom bs4 import BeautifulSoup\nimport pandas as pd "
        }, 
        {
            "source": "#### I've pre-defined some redundant functions here so as to reduce the complexity and size of the code", 
            "cell_type": "markdown", 
            "metadata": {}
        }, 
        {
            "execution_count": 3, 
            "cell_type": "code", 
            "metadata": {}, 
            "outputs": [], 
            "source": "#function to check if we have access to the website\ndef access_to_server(a):\n    if(access.status_code == 200):\n        print(\"Access to PlaneCrashInfo.com: Granted\")\n    else:\n        print(\"Access to PlaneCrashInfo.com: Denied\")\n        \n#function to pause for a little so that the website server does not flag us as a spammer\ndef take_a_break():\n    time.sleep(0.1)      #we pause for 3 seconds\n\n#function to access the website\ndef access_website(url):\n    access = None\n    access = requests.get(url,timeout=10)\n    return access   \n\ndef get_data(search_string, regex):\n    pattern = re.compile(regex)\n    matches = pattern.finditer(search_string)\n\n    for match in matches:\n        match = match.span()\n\n    span = search_string[match[0]:match[1]]\n    return span"
        }, 
        {
            "source": "#### Next, we set the url to the Plane Crash Info website and access the site with our requests library. We also set the base url to create a dictionary with years as the key.", 
            "cell_type": "markdown", 
            "metadata": {}
        }, 
        {
            "execution_count": 4, 
            "cell_type": "code", 
            "metadata": {}, 
            "outputs": [
                {
                    "output_type": "stream", 
                    "name": "stdout", 
                    "text": "Access to PlaneCrashInfo.com: Granted\n"
                }
            ], 
            "source": "base_url = \"http://www.planecrashinfo.com\"\naccess = requests.get('http://www.planecrashinfo.com/database.htm')\naccess_to_server(access)\nsource = BeautifulSoup(access.text, 'html.parser')"
        }, 
        {
            "source": " #### Here we build a dictionary with the url stores as the value and the year as the key", 
            "cell_type": "markdown", 
            "metadata": {}
        }, 
        {
            "execution_count": 82, 
            "cell_type": "code", 
            "metadata": {}, 
            "outputs": [], 
            "source": "a_tags = source.find_all(\"a\")\nyears = {a.text.strip(): {\"url\": base_url + a[\"href\"] if a[\"href\"][0] == \"/\" else base_url + \"/\" + a[\"href\"]} for a in a_tags if a.text.strip().isdigit()}"
        }, 
        {
            "source": "#### Here we pause for a little to avoid getting flagged as a spammer.", 
            "cell_type": "markdown", 
            "metadata": {}
        }, 
        {
            "execution_count": 83, 
            "cell_type": "code", 
            "metadata": {}, 
            "outputs": [], 
            "source": "take_a_break()"
        }, 
        {
            "execution_count": 102, 
            "cell_type": "code", 
            "metadata": {}, 
            "outputs": [
                {
                    "output_type": "stream", 
                    "name": "stdout", 
                    "text": "Access to PlaneCrashInfo.com: Granted\n"
                }
            ], 
            "source": "done = 0\nfor year, database in years.items():       #first we loop for each year from 1920 until 2019\n    if year == '1921':\n        break\n    take_a_break()\n    response_year = access_website(database[\"url\"])\n    access_to_server(response_year)\n    parser_year = BeautifulSoup(response_year.content, 'html.parser')\n    a_tags2 = parser_year.find_all(\"a\")\n    a_tags2 = [a for a in a_tags2 if \"Return to Home\" not in a.text]\n    for a in a_tags2:\n            # request to crash detail page\n            response_crash = access_website(base_url + \"/\" + year + a[\"href\"] if a[\"href\"][0] == \"/\" else base_url + \"/\" + year + \"/\" + a[\"href\"])\n            parser_crash = BeautifulSoup(response_crash.content, 'html.parser')\n            tr_tags = parser_crash.find_all(\"tr\")\n            tr_tags = tr_tags[1:]\n\n            database = [tr.find_all(\"td\")[1].text.strip() for tr in tr_tags]\n    if year == '1920':\n        break      \n    database"
        }, 
        {
            "execution_count": 103, 
            "cell_type": "code", 
            "metadata": {}, 
            "outputs": [
                {
                    "execution_count": 103, 
                    "metadata": {}, 
                    "data": {
                        "text/plain": "['December 24, 1920',\n '?',\n 'Barcelona, Spain',\n 'Aeropostale',\n '?',\n '?',\n 'Breguet 14',\n 'F-ALBO',\n '57',\n '1 \\xa0 (passengers:0\\xa0 crew:1)',\n '1 \\xa0 (passengers:0\\xa0 crew:1)',\n '0',\n 'The aircraft stalled and crashed when an engine failed.']"
                    }, 
                    "output_type": "execute_result"
                }
            ], 
            "source": "x = database\nx"
        }, 
        {
            "execution_count": 107, 
            "cell_type": "code", 
            "metadata": {}, 
            "outputs": [], 
            "source": "import unicodedata\n#Splitting the data in the aboard row\naboard_row = x[9]\n#aboard_row = aboard_row.replace(u'\\xa0', u' ')\naboard_row = unicodedata.normalize(\"NFKD\", aboard_row)\naboard_row = re.sub(' +', ' ',aboard_row)\nsplit_aboard_row = aboard_row.split(\" \")\n#find the total number of people aboard\ntotal_aboard = split_aboard_row[0]\n#find the total number of passengers aboard\npassengers_aboard = split_aboard_row[2]\n"
        }, 
        {
            "execution_count": 109, 
            "cell_type": "code", 
            "metadata": {}, 
            "outputs": [
                {
                    "execution_count": 109, 
                    "metadata": {}, 
                    "data": {
                        "text/plain": "['1', '(passengers:0', 'crew:1)']"
                    }, 
                    "output_type": "execute_result"
                }
            ], 
            "source": "split_aboard_row"
        }, 
        {
            "execution_count": 70, 
            "cell_type": "code", 
            "metadata": {}, 
            "outputs": [], 
            "source": "#Splitting the data in the aboard row\naboard_row = x[9]\nsplit_aboard_row = aboard_row.split(\" \")\n#find the total number of people aboard\ntotal_aboard = split_aboard_row[0]\n#find the total number of passengers aboard\npassengers_aboard = split_aboard_row[2]\npassengers_aboard = re.findall(r'\\d+', passengers_aboard)\npassengers_aboard = passengers_aboard[0]\n#find the total number of crew members aboard\ncrew_aboard = split_aboard_row[3]\ncrew_aboard = re.findall(r'\\d+', crew_aboard)\ncrew_aboard = crew_aboard[0]\n\n#Splitting the data in the fatalities row\nfatalities_row = x[10]\nsplit_fatalities_row = fatalities_row.split(\" \")\n#find the total number of fatalities\ntotal_fatalities = split_fatalities_row[0]\n#find the total number of passenger fatalities\npassenger_fatalities = split_fatalities_row[2]\npassenger_fatalities = re.findall(r'\\d+', passenger_fatalities)\npassenger_fatalities = passenger_fatalities[0]\n#find the total number of crew fatalities\ncrew_fatalities = split_fatalities_row[3]\ncrew_fatalities = re.findall(r'\\d+', crew_fatalities)\ncrew_fatalities = crew_fatalities[0]\n\n#save data for reorganization\nground = x[11]\nsummary = x[12]"
        }, 
        {
            "execution_count": 71, 
            "cell_type": "code", 
            "metadata": {}, 
            "outputs": [
                {
                    "execution_count": 71, 
                    "metadata": {}, 
                    "data": {
                        "text/plain": "['September 17, 1908',\n '1718',\n 'Fort Myer, Virginia',\n 'Military - U.S. Army',\n '?',\n 'Demonstration',\n 'Wright Flyer III',\n '?',\n '1',\n '2',\n '1',\n '1',\n '1',\n '1',\n '0',\n '0',\n 'During a demonstration flight, a U.S. Army flyer flown by Orville Wright nose-dived into the ground from a height of approximately 75 feet, killing Lt. Thomas E. Selfridge, 26, who was a passenger. This was the first recorded airplane fatality in history.  One of two propellers separated in flight, tearing loose the wires bracing the rudder and causing the loss of control of the aircraft.  Orville Wright suffered broken ribs, pelvis and a leg.  Selfridge suffered a crushed skull and died a short time later.']"
                    }, 
                    "output_type": "execute_result"
                }
            ], 
            "source": "x[9] = total_aboard\nx[10] = passengers_aboard\nx[11] = crew_aboard\nx[12] = total_fatalities\n\nu= [passenger_fatalities, crew_fatalities, ground, summary]\nx.extend(u)\nx\n"
        }, 
        {
            "execution_count": 72, 
            "cell_type": "code", 
            "metadata": {}, 
            "outputs": [
                {
                    "execution_count": 72, 
                    "metadata": {}, 
                    "data": {
                        "text/html": "<div>\n<style scoped>\n    .dataframe tbody tr th:only-of-type {\n        vertical-align: middle;\n    }\n\n    .dataframe tbody tr th {\n        vertical-align: top;\n    }\n\n    .dataframe thead th {\n        text-align: right;\n    }\n</style>\n<table border=\"1\" class=\"dataframe\">\n  <thead>\n    <tr style=\"text-align: right;\">\n      <th></th>\n      <th>0</th>\n      <th>1</th>\n      <th>2</th>\n      <th>3</th>\n      <th>4</th>\n      <th>5</th>\n      <th>6</th>\n      <th>7</th>\n      <th>8</th>\n      <th>9</th>\n      <th>10</th>\n      <th>11</th>\n      <th>12</th>\n      <th>13</th>\n      <th>14</th>\n      <th>15</th>\n      <th>16</th>\n    </tr>\n  </thead>\n  <tbody>\n    <tr>\n      <th>0</th>\n      <td>September 17, 1908</td>\n      <td>1718</td>\n      <td>Fort Myer, Virginia</td>\n      <td>Military - U.S. Army</td>\n      <td>?</td>\n      <td>Demonstration</td>\n      <td>Wright Flyer III</td>\n      <td>?</td>\n      <td>1</td>\n      <td>2</td>\n      <td>1</td>\n      <td>1</td>\n      <td>1</td>\n      <td>1</td>\n      <td>0</td>\n      <td>0</td>\n      <td>During a demonstration flight, a U.S. Army fly...</td>\n    </tr>\n  </tbody>\n</table>\n</div>", 
                        "text/plain": "                   0     1                    2                     3  4   \\\n0  September 17, 1908  1718  Fort Myer, Virginia  Military - U.S. Army  ?   \n\n              5                 6  7  8  9  10 11 12 13 14 15  \\\n0  Demonstration  Wright Flyer III  ?  1  2  1  1  1  1  0  0   \n\n                                                  16  \n0  During a demonstration flight, a U.S. Army fly...  "
                    }, 
                    "output_type": "execute_result"
                }
            ], 
            "source": "df = pd.DataFrame(x) \nq= df.T\nq"
        }, 
        {
            "source": "#### Now we start collecting the unstructured data", 
            "cell_type": "markdown", 
            "metadata": {}
        }, 
        {
            "source": "x = database\n            #Splitting the data in the aboard row\n            aboard_row = x[9]\n            split_aboard_row = aboard_row.split(\" \")\n            #find the total number of people aboard\n            total_aboard = split_aboard_row[0]\n            #find the total number of passengers aboard\n            passengers_aboard = split_aboard_row[2]\n            passengers_aboard = re.findall(r'\\d+', passengers_aboard)\n            passengers_aboard = passengers_aboard[0]\n            #find the total number of crew members aboard\n            crew_aboard = split_aboard_row[3]\n            crew_aboard = re.findall(r'\\d+', crew_aboard)\n            crew_aboard = crew_aboard[0]\n\n            #Splitting the data in the fatalities row\n            fatalities_row = x[10]\n            split_fatalities_row = fatalities_row.split(\" \")\n            #find the total number of fatalities\n            total_fatalities = split_fatalities_row[0]\n            #find the total number of passenger fatalities\n            passenger_fatalities = split_fatalities_row[2]\n            passenger_fatalities = re.findall(r'\\d+', passenger_fatalities)\n            passenger_fatalities = passenger_fatalities[0]\n            #find the total number of crew fatalities\n            crew_fatalities = split_fatalities_row[3]\n            crew_fatalities = re.findall(r'\\d+', crew_fatalities)\n            crew_fatalities = crew_fatalities[0]\n\n            #save data for reorganization\n            ground = x[11]\n            summary = x[12]\n            x[9] = total_aboard\n            x[10] = passengers_aboard\n            x[11] = crew_aboard\n            x[12] = total_fatalities\n\n            u= [passenger_fatalities, crew_fatalities, ground, summary]\n            x.extend(u)\n            df = pd.DataFrame(x) \n            q= df.T\n            \n\ndone = 0\nfor year, database in years.items():       #first we loop for each year from 1920 until 2019\n    print(year)\n    if year == 1969:\n        break\n    take_a_break()\n    response_year = access_website(database[\"url\"])\n    access_to_server(response_year)\n    parser_year = BeautifulSoup(response_year.content, 'html.parser')\n#    if done == 0:\n#        break\n    a_tags2 = parser_year.find_all(\"a\")\n    a_tags2 = [a for a in a_tags2 if \"Return to Home\" not in a.text]\n    for a in a_tags2:\n\n            # request to crash detail page\n            response_crash = access_website(base_url + \"/\" + year + a[\"href\"] if a[\"href\"][0] == \"/\" else base_url + \"/\" + year + \"/\" + a[\"href\"])\n            parser_crash = BeautifulSoup(response_crash.content, 'html.parser')\n\n            # get all table content except the first row(table title)\n            tr_tags = parser_crash.find_all(\"tr\")\n            tr_tags = tr_tags[1:]\n\n            database = [tr.find_all(\"td\")[1].text.strip() for tr in tr_tags]\n            # get all aboard\n            aboard = database[9]\n            all_aboard = get_data(aboard, r'^\\d+|^\\W')\n\n            # get all passengers aboard\n            passengers_aboard = get_data(aboard, r'(?<=\\(passengers:)\\d+|(?<=\\(passengers:)\\W')\n\n            # get all crew aboard\n            crew_aboard = get_data(\n                aboard, r'(?<=crew:)\\d+|(?<=crew:)\\W')\n\n            # get all fatalities\n            fatalities = database[10]\n\n            all_fatalities = get_data(fatalities, r'^\\d+|^\\W')\n\n            # get all passengers fatalities\n            passenger_fatalities = get_data(fatalities, r'(?<=\\(passengers:)\\d+|(?<=\\(passengers:)\\W')\n\n            # get all crew fatalities\n            crew_fatalities = get_data(fatalities, r'(?<=crew:)\\d+|(?<=crew:)\\W')\n\n            # remove aboard info and store each value separately\n            database.pop(9)\n            database.insert(9, all_aboard)\n            database.insert(10, passengers_aboard)\n            database.insert(11, crew_aboard)\n\n            # remove fatalities info and store each value separately\n            database.pop(12)\n            database.insert(12, all_fatalities)\n            database.insert(13, passenger_fatalities)\n            database.insert(14, crew_fatalities)\n            take_a_break()", 
            "cell_type": "markdown", 
            "metadata": {}
        }
    ], 
    "metadata": {
        "kernelspec": {
            "display_name": "Python 3.6", 
            "name": "python3", 
            "language": "python"
        }, 
        "language_info": {
            "mimetype": "text/x-python", 
            "nbconvert_exporter": "python", 
            "version": "3.6.8", 
            "name": "python", 
            "file_extension": ".py", 
            "pygments_lexer": "ipython3", 
            "codemirror_mode": {
                "version": 3, 
                "name": "ipython"
            }
        }
    }, 
    "nbformat": 4
}