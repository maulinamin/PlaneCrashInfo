{
    "nbformat_minor": 1, 
    "cells": [
        {
            "source": "#### Install the necessary package.", 
            "cell_type": "markdown", 
            "metadata": {
                "collapsed": true
            }
        }, 
        {
            "execution_count": 1, 
            "cell_type": "code", 
            "metadata": {}, 
            "outputs": [
                {
                    "output_type": "stream", 
                    "name": "stdout", 
                    "text": "Requirement already satisfied: watson-developer-cloud==1.5 in /opt/conda/envs/Python36/lib/python3.6/site-packages (1.5.0)\nRequirement already satisfied: pyOpenSSL>=16.2.0 in /opt/conda/envs/Python36/lib/python3.6/site-packages (from watson-developer-cloud==1.5) (19.0.0)\nRequirement already satisfied: service-identity>=17.0.0 in /opt/conda/envs/Python36/lib/python3.6/site-packages (from watson-developer-cloud==1.5) (18.1.0)\nRequirement already satisfied: autobahn>=0.10.9 in /opt/conda/envs/Python36/lib/python3.6/site-packages (from watson-developer-cloud==1.5) (19.7.1)\nRequirement already satisfied: Twisted>=13.2.0 in /opt/conda/envs/Python36/lib/python3.6/site-packages (from watson-developer-cloud==1.5) (19.2.1)\nRequirement already satisfied: python-dateutil>=2.5.3 in /opt/conda/envs/Python36/lib/python3.6/site-packages (from watson-developer-cloud==1.5) (2.7.5)\nRequirement already satisfied: requests<3.0,>=2.0 in /opt/conda/envs/Python36/lib/python3.6/site-packages (from watson-developer-cloud==1.5) (2.21.0)\nRequirement already satisfied: cryptography>=2.3 in /opt/conda/envs/Python36/lib/python3.6/site-packages (from pyOpenSSL>=16.2.0->watson-developer-cloud==1.5) (2.7)\nRequirement already satisfied: six>=1.5.2 in /opt/conda/envs/Python36/lib/python3.6/site-packages (from pyOpenSSL>=16.2.0->watson-developer-cloud==1.5) (1.12.0)\nRequirement already satisfied: attrs>=16.0.0 in /opt/conda/envs/Python36/lib/python3.6/site-packages (from service-identity>=17.0.0->watson-developer-cloud==1.5) (18.2.0)\nRequirement already satisfied: pyasn1 in /opt/conda/envs/Python36/lib/python3.6/site-packages (from service-identity>=17.0.0->watson-developer-cloud==1.5) (0.4.5)\nRequirement already satisfied: pyasn1-modules in /opt/conda/envs/Python36/lib/python3.6/site-packages (from service-identity>=17.0.0->watson-developer-cloud==1.5) (0.2.5)\nRequirement already satisfied: txaio>=18.8.1 in /opt/conda/envs/Python36/lib/python3.6/site-packages (from autobahn>=0.10.9->watson-developer-cloud==1.5) (18.8.1)\nRequirement already satisfied: PyHamcrest>=1.9.0 in /opt/conda/envs/Python36/lib/python3.6/site-packages (from Twisted>=13.2.0->watson-developer-cloud==1.5) (1.9.0)\nRequirement already satisfied: constantly>=15.1 in /opt/conda/envs/Python36/lib/python3.6/site-packages (from Twisted>=13.2.0->watson-developer-cloud==1.5) (15.1.0)\nRequirement already satisfied: Automat>=0.3.0 in /opt/conda/envs/Python36/lib/python3.6/site-packages (from Twisted>=13.2.0->watson-developer-cloud==1.5) (0.7.0)\nRequirement already satisfied: zope.interface>=4.4.2 in /opt/conda/envs/Python36/lib/python3.6/site-packages (from Twisted>=13.2.0->watson-developer-cloud==1.5) (4.6.0)\nRequirement already satisfied: incremental>=16.10.1 in /opt/conda/envs/Python36/lib/python3.6/site-packages (from Twisted>=13.2.0->watson-developer-cloud==1.5) (17.5.0)\nRequirement already satisfied: hyperlink>=17.1.1 in /opt/conda/envs/Python36/lib/python3.6/site-packages (from Twisted>=13.2.0->watson-developer-cloud==1.5) (19.0.0)\nRequirement already satisfied: idna<2.9,>=2.5 in /opt/conda/envs/Python36/lib/python3.6/site-packages (from requests<3.0,>=2.0->watson-developer-cloud==1.5) (2.8)\nRequirement already satisfied: chardet<3.1.0,>=3.0.2 in /opt/conda/envs/Python36/lib/python3.6/site-packages (from requests<3.0,>=2.0->watson-developer-cloud==1.5) (3.0.4)\nRequirement already satisfied: certifi>=2017.4.17 in /opt/conda/envs/Python36/lib/python3.6/site-packages (from requests<3.0,>=2.0->watson-developer-cloud==1.5) (2019.6.16)\nRequirement already satisfied: urllib3<1.25,>=1.21.1 in /opt/conda/envs/Python36/lib/python3.6/site-packages (from requests<3.0,>=2.0->watson-developer-cloud==1.5) (1.24.1)\nRequirement already satisfied: cffi!=1.11.3,>=1.8 in /opt/conda/envs/Python36/lib/python3.6/site-packages (from cryptography>=2.3->pyOpenSSL>=16.2.0->watson-developer-cloud==1.5) (1.11.5)\nRequirement already satisfied: asn1crypto>=0.21.0 in /opt/conda/envs/Python36/lib/python3.6/site-packages (from cryptography>=2.3->pyOpenSSL>=16.2.0->watson-developer-cloud==1.5) (0.24.0)\nRequirement already satisfied: setuptools in /opt/conda/envs/Python36/lib/python3.6/site-packages (from PyHamcrest>=1.9.0->Twisted>=13.2.0->watson-developer-cloud==1.5) (40.8.0)\nRequirement already satisfied: pycparser in /opt/conda/envs/Python36/lib/python3.6/site-packages (from cffi!=1.11.3,>=1.8->cryptography>=2.3->pyOpenSSL>=16.2.0->watson-developer-cloud==1.5) (2.19)\n"
                }
            ], 
            "source": "!pip install watson-developer-cloud==1.5"
        }, 
        {
            "source": "#### Import the necessary libraries", 
            "cell_type": "markdown", 
            "metadata": {}
        }, 
        {
            "execution_count": 2, 
            "cell_type": "code", 
            "metadata": {}, 
            "outputs": [], 
            "source": "import requests\nimport urllib.request\nimport time\nimport datetime\nimport csv\nimport re\nimport unicodedata\nfrom bs4 import BeautifulSoup\nimport pandas as pd "
        }, 
        {
            "source": "#### I've pre-defined some redundant functions here so as to reduce the complexity and size of the code", 
            "cell_type": "markdown", 
            "metadata": {}
        }, 
        {
            "execution_count": 3, 
            "cell_type": "code", 
            "metadata": {}, 
            "outputs": [], 
            "source": "#function to check if we have access to the website\ndef access_to_server(a):\n    if(access.status_code == 200):\n        print(\"Access to PlaneCrashInfo.com: Granted\")\n    else:\n        print(\"Access to PlaneCrashInfo.com: Denied\")\n        \n#function to pause for a little so that the website server does not flag us as a spammer\ndef take_a_break():\n    time.sleep(0.1)      #we pause for 3 seconds\n\n#function to access the website\ndef access_website(url):\n    access = None\n    access = requests.get(url,timeout=10)\n    return access   \n\ndef get_data(search_string, regex):\n    pattern = re.compile(regex)\n    matches = pattern.finditer(search_string)\n\n    for match in matches:\n        match = match.span()\n\n    span = search_string[match[0]:match[1]]\n    return span\n\n#predefine a dataframe to store out clean data\nheaders = ['Date','Time','Location','Operator','Flight#','Route','AC Type','Registration','cn/ln','Total Aboard','Passengers Aboard','Crew Aboard','Total Fatalities','Passenger Fatalities','Crew Fatalities','Ground','Summary']\ndf = pd.DataFrame(headers)\nclean_data= df.T"
        }, 
        {
            "source": "#### Next, we set the url to the Plane Crash Info website and access the site with our requests library. We also set the base url to create a dictionary with years as the key.", 
            "cell_type": "markdown", 
            "metadata": {}
        }, 
        {
            "execution_count": 4, 
            "cell_type": "code", 
            "metadata": {}, 
            "outputs": [
                {
                    "output_type": "stream", 
                    "name": "stdout", 
                    "text": "Access to PlaneCrashInfo.com: Granted\n"
                }
            ], 
            "source": "base_url = \"http://www.planecrashinfo.com\"\naccess = requests.get('http://www.planecrashinfo.com/database.htm')\naccess_to_server(access)\nsource = BeautifulSoup(access.text, 'html.parser')"
        }, 
        {
            "source": " #### Here we build a dictionary with the url stores as the value and the year as the key", 
            "cell_type": "markdown", 
            "metadata": {}
        }, 
        {
            "execution_count": 5, 
            "cell_type": "code", 
            "metadata": {}, 
            "outputs": [], 
            "source": "a_tags = source.find_all(\"a\")\nyears = {a.text.strip(): {\"url\": base_url + a[\"href\"] if a[\"href\"][0] == \"/\" else base_url + \"/\" + a[\"href\"]} for a in a_tags if a.text.strip().isdigit()}"
        }, 
        {
            "source": "#### Here we pause for a little to avoid getting flagged as a spammer.", 
            "cell_type": "markdown", 
            "metadata": {}
        }, 
        {
            "execution_count": 6, 
            "cell_type": "code", 
            "metadata": {}, 
            "outputs": [], 
            "source": "take_a_break()"
        }, 
        {
            "execution_count": 7, 
            "cell_type": "code", 
            "metadata": {}, 
            "outputs": [
                {
                    "output_type": "stream", 
                    "name": "stdout", 
                    "text": "Access to PlaneCrashInfo.com: Granted\n"
                }
            ], 
            "source": "done = 0\nfor year, database in years.items():       #first we loop for each year from 1920 until 2019\n    if year == '1921':\n        break\n    take_a_break()\n    response_year = access_website(database[\"url\"])\n    access_to_server(response_year)\n    parser_year = BeautifulSoup(response_year.content, 'html.parser')\n    a_tags2 = parser_year.find_all(\"a\")\n    a_tags2 = [a for a in a_tags2 if \"Return to Home\" not in a.text]\n    for a in a_tags2:\n            # request to crash detail page\n            response_crash = access_website(base_url + \"/\" + year + a[\"href\"] if a[\"href\"][0] == \"/\" else base_url + \"/\" + year + \"/\" + a[\"href\"])\n            parser_crash = BeautifulSoup(response_crash.content, 'html.parser')\n            tr_tags = parser_crash.find_all(\"tr\")\n            tr_tags = tr_tags[1:]\n\n            database = [tr.find_all(\"td\")[1].text.strip() for tr in tr_tags]\n    if year == '1920':\n        break      \n    database"
        }, 
        {
            "execution_count": 8, 
            "cell_type": "code", 
            "metadata": {}, 
            "outputs": [
                {
                    "execution_count": 8, 
                    "metadata": {}, 
                    "data": {
                        "text/plain": "['December 24, 1920',\n '?',\n 'Barcelona, Spain',\n 'Aeropostale',\n '?',\n '?',\n 'Breguet 14',\n 'F-ALBO',\n '57',\n '1 \\xa0 (passengers:0\\xa0 crew:1)',\n '1 \\xa0 (passengers:0\\xa0 crew:1)',\n '0',\n 'The aircraft stalled and crashed when an engine failed.']"
                    }, 
                    "output_type": "execute_result"
                }
            ], 
            "source": "x = database\nx"
        }, 
        {
            "execution_count": 9, 
            "cell_type": "code", 
            "metadata": {}, 
            "outputs": [], 
            "source": "#Splitting the data in the aboard row\naboard_row = x[9]\n#remove \\xa0 from the string\naboard_row = unicodedata.normalize(\"NFKD\", aboard_row)\n#remove duplicate spaces from the string\naboard_row = re.sub(' +', ' ',aboard_row)\n#split the string to extract the data easily\nsplit_aboard_row = aboard_row.split(\" \")\n#find the total number of people aboard\ntotal_aboard = split_aboard_row[0]\n#find the total number of passengers aboard\npassengers_aboard = split_aboard_row[1]\npassengers_aboard = passengers_aboard[-1]\n#find the total number of crew members aboard\ncrew_aboard = split_aboard_row[2]\ncrew_aboard = crew_aboard[-2]\n\n#Splitting the data in the fatalities row\nfatalities_row = x[10]\n#remove \\xa0 from the string\nfatalities_row = unicodedata.normalize(\"NFKD\", fatalities_row)\n#remove duplicate spaces from the string\nfatalities_row = re.sub(' +', ' ',fatalities_row)\n#split the string to extract the data easily\nsplit_fatalities_row = fatalities_row.split(\" \")\n#find the total number of fatalities\ntotal_fatalities = split_fatalities_row[0]\n#find the total number of passenger fatalities\npassenger_fatalities = split_fatalities_row[1]\npassenger_fatalities = passenger_fatalities[-1]\n#find the total number of crew fatalities\ncrew_fatalities = split_fatalities_row[2]\ncrew_fatalities = crew_fatalities[-2]\n\n#save data for reorganization\nground = x[11]\nsummary = x[12]"
        }, 
        {
            "execution_count": 10, 
            "cell_type": "code", 
            "metadata": {}, 
            "outputs": [
                {
                    "execution_count": 10, 
                    "metadata": {}, 
                    "data": {
                        "text/plain": "['December 24, 1920',\n '?',\n 'Barcelona, Spain',\n 'Aeropostale',\n '?',\n '?',\n 'Breguet 14',\n 'F-ALBO',\n '57',\n '1',\n '0',\n '1',\n '1',\n '0',\n '1',\n '0',\n 'The aircraft stalled and crashed when an engine failed.']"
                    }, 
                    "output_type": "execute_result"
                }
            ], 
            "source": "x[9] = total_aboard\nx[10] = passengers_aboard\nx[11] = crew_aboard\nx[12] = total_fatalities\n\nu= [passenger_fatalities, crew_fatalities, ground, summary]\nx.extend(u)\nx\n"
        }, 
        {
            "execution_count": 11, 
            "cell_type": "code", 
            "metadata": {}, 
            "outputs": [
                {
                    "execution_count": 11, 
                    "metadata": {}, 
                    "data": {
                        "text/html": "<div>\n<style scoped>\n    .dataframe tbody tr th:only-of-type {\n        vertical-align: middle;\n    }\n\n    .dataframe tbody tr th {\n        vertical-align: top;\n    }\n\n    .dataframe thead th {\n        text-align: right;\n    }\n</style>\n<table border=\"1\" class=\"dataframe\">\n  <thead>\n    <tr style=\"text-align: right;\">\n      <th></th>\n      <th>0</th>\n      <th>1</th>\n      <th>2</th>\n      <th>3</th>\n      <th>4</th>\n      <th>5</th>\n      <th>6</th>\n      <th>7</th>\n      <th>8</th>\n      <th>9</th>\n      <th>10</th>\n      <th>11</th>\n      <th>12</th>\n      <th>13</th>\n      <th>14</th>\n      <th>15</th>\n      <th>16</th>\n    </tr>\n  </thead>\n  <tbody>\n    <tr>\n      <th>0</th>\n      <td>Date</td>\n      <td>Time</td>\n      <td>Location</td>\n      <td>Operator</td>\n      <td>Flight#</td>\n      <td>Route</td>\n      <td>AC Type</td>\n      <td>Registration</td>\n      <td>cn/ln</td>\n      <td>Total Aboard</td>\n      <td>Passengers Aboard</td>\n      <td>Crew Aboard</td>\n      <td>Total Fatalities</td>\n      <td>Passenger Fatalities</td>\n      <td>Crew Fatalities</td>\n      <td>Ground</td>\n      <td>Summary</td>\n    </tr>\n    <tr>\n      <th>0</th>\n      <td>December 24, 1920</td>\n      <td>?</td>\n      <td>Barcelona, Spain</td>\n      <td>Aeropostale</td>\n      <td>?</td>\n      <td>?</td>\n      <td>Breguet 14</td>\n      <td>F-ALBO</td>\n      <td>57</td>\n      <td>1</td>\n      <td>0</td>\n      <td>1</td>\n      <td>1</td>\n      <td>0</td>\n      <td>1</td>\n      <td>0</td>\n      <td>The aircraft stalled and crashed when an engin...</td>\n    </tr>\n  </tbody>\n</table>\n</div>", 
                        "text/plain": "                  0     1                 2            3        4      5   \\\n0               Date  Time          Location     Operator  Flight#  Route   \n0  December 24, 1920     ?  Barcelona, Spain  Aeropostale        ?      ?   \n\n           6             7      8             9                  10  \\\n0     AC Type  Registration  cn/ln  Total Aboard  Passengers Aboard   \n0  Breguet 14        F-ALBO     57             1                  0   \n\n            11                12                    13               14  \\\n0  Crew Aboard  Total Fatalities  Passenger Fatalities  Crew Fatalities   \n0            1                 1                     0                1   \n\n       15                                                 16  \n0  Ground                                            Summary  \n0       0  The aircraft stalled and crashed when an engin...  "
                    }, 
                    "output_type": "execute_result"
                }
            ], 
            "source": "df = pd.DataFrame(x) \nq= df.T\nclean_data.append(q)"
        }, 
        {
            "source": "#### Now we start collecting the unstructured data", 
            "cell_type": "markdown", 
            "metadata": {}
        }, 
        {
            "source": "x = database\n            #Splitting the data in the aboard row\n            aboard_row = x[9]\n            split_aboard_row = aboard_row.split(\" \")\n            #find the total number of people aboard\n            total_aboard = split_aboard_row[0]\n            #find the total number of passengers aboard\n            passengers_aboard = split_aboard_row[2]\n            passengers_aboard = re.findall(r'\\d+', passengers_aboard)\n            passengers_aboard = passengers_aboard[0]\n            #find the total number of crew members aboard\n            crew_aboard = split_aboard_row[3]\n            crew_aboard = re.findall(r'\\d+', crew_aboard)\n            crew_aboard = crew_aboard[0]\n\n            #Splitting the data in the fatalities row\n            fatalities_row = x[10]\n            split_fatalities_row = fatalities_row.split(\" \")\n            #find the total number of fatalities\n            total_fatalities = split_fatalities_row[0]\n            #find the total number of passenger fatalities\n            passenger_fatalities = split_fatalities_row[2]\n            passenger_fatalities = re.findall(r'\\d+', passenger_fatalities)\n            passenger_fatalities = passenger_fatalities[0]\n            #find the total number of crew fatalities\n            crew_fatalities = split_fatalities_row[3]\n            crew_fatalities = re.findall(r'\\d+', crew_fatalities)\n            crew_fatalities = crew_fatalities[0]\n\n            #save data for reorganization\n            ground = x[11]\n            summary = x[12]\n            x[9] = total_aboard\n            x[10] = passengers_aboard\n            x[11] = crew_aboard\n            x[12] = total_fatalities\n\n            u= [passenger_fatalities, crew_fatalities, ground, summary]\n            x.extend(u)\n            df = pd.DataFrame(x) \n            q= df.T\n            \n\ndone = 0\nfor year, database in years.items():       #first we loop for each year from 1920 until 2019\n    print(year)\n    if year == 1969:\n        break\n    take_a_break()\n    response_year = access_website(database[\"url\"])\n    access_to_server(response_year)\n    parser_year = BeautifulSoup(response_year.content, 'html.parser')\n#    if done == 0:\n#        break\n    a_tags2 = parser_year.find_all(\"a\")\n    a_tags2 = [a for a in a_tags2 if \"Return to Home\" not in a.text]\n    for a in a_tags2:\n\n            # request to crash detail page\n            response_crash = access_website(base_url + \"/\" + year + a[\"href\"] if a[\"href\"][0] == \"/\" else base_url + \"/\" + year + \"/\" + a[\"href\"])\n            parser_crash = BeautifulSoup(response_crash.content, 'html.parser')\n\n            # get all table content except the first row(table title)\n            tr_tags = parser_crash.find_all(\"tr\")\n            tr_tags = tr_tags[1:]\n\n            database = [tr.find_all(\"td\")[1].text.strip() for tr in tr_tags]\n            # get all aboard\n            aboard = database[9]\n            all_aboard = get_data(aboard, r'^\\d+|^\\W')\n\n            # get all passengers aboard\n            passengers_aboard = get_data(aboard, r'(?<=\\(passengers:)\\d+|(?<=\\(passengers:)\\W')\n\n            # get all crew aboard\n            crew_aboard = get_data(\n                aboard, r'(?<=crew:)\\d+|(?<=crew:)\\W')\n\n            # get all fatalities\n            fatalities = database[10]\n\n            all_fatalities = get_data(fatalities, r'^\\d+|^\\W')\n\n            # get all passengers fatalities\n            passenger_fatalities = get_data(fatalities, r'(?<=\\(passengers:)\\d+|(?<=\\(passengers:)\\W')\n\n            # get all crew fatalities\n            crew_fatalities = get_data(fatalities, r'(?<=crew:)\\d+|(?<=crew:)\\W')\n\n            # remove aboard info and store each value separately\n            database.pop(9)\n            database.insert(9, all_aboard)\n            database.insert(10, passengers_aboard)\n            database.insert(11, crew_aboard)\n\n            # remove fatalities info and store each value separately\n            database.pop(12)\n            database.insert(12, all_fatalities)\n            database.insert(13, passenger_fatalities)\n            database.insert(14, crew_fatalities)\n            take_a_break()", 
            "cell_type": "markdown", 
            "metadata": {}
        }
    ], 
    "metadata": {
        "kernelspec": {
            "display_name": "Python 3.6", 
            "name": "python3", 
            "language": "python"
        }, 
        "language_info": {
            "mimetype": "text/x-python", 
            "nbconvert_exporter": "python", 
            "version": "3.6.8", 
            "name": "python", 
            "file_extension": ".py", 
            "pygments_lexer": "ipython3", 
            "codemirror_mode": {
                "version": 3, 
                "name": "ipython"
            }
        }
    }, 
    "nbformat": 4
}