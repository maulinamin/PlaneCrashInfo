{
    "nbformat_minor": 1, 
    "cells": [
        {
            "source": "#### Install the necessary package.", 
            "cell_type": "markdown", 
            "metadata": {
                "collapsed": true
            }
        }, 
        {
            "execution_count": 1, 
            "cell_type": "code", 
            "metadata": {}, 
            "outputs": [
                {
                    "output_type": "stream", 
                    "name": "stdout", 
                    "text": "Requirement already satisfied: watson-developer-cloud==1.5 in /opt/conda/envs/Python36/lib/python3.6/site-packages (1.5.0)\nRequirement already satisfied: Twisted>=13.2.0 in /opt/conda/envs/Python36/lib/python3.6/site-packages (from watson-developer-cloud==1.5) (19.2.1)\nRequirement already satisfied: python-dateutil>=2.5.3 in /opt/conda/envs/Python36/lib/python3.6/site-packages (from watson-developer-cloud==1.5) (2.7.5)\nRequirement already satisfied: pyOpenSSL>=16.2.0 in /opt/conda/envs/Python36/lib/python3.6/site-packages (from watson-developer-cloud==1.5) (19.0.0)\nRequirement already satisfied: requests<3.0,>=2.0 in /opt/conda/envs/Python36/lib/python3.6/site-packages (from watson-developer-cloud==1.5) (2.21.0)\nRequirement already satisfied: service-identity>=17.0.0 in /opt/conda/envs/Python36/lib/python3.6/site-packages (from watson-developer-cloud==1.5) (18.1.0)\nRequirement already satisfied: autobahn>=0.10.9 in /opt/conda/envs/Python36/lib/python3.6/site-packages (from watson-developer-cloud==1.5) (19.7.1)\nRequirement already satisfied: attrs>=17.4.0 in /opt/conda/envs/Python36/lib/python3.6/site-packages (from Twisted>=13.2.0->watson-developer-cloud==1.5) (18.2.0)\nRequirement already satisfied: PyHamcrest>=1.9.0 in /opt/conda/envs/Python36/lib/python3.6/site-packages (from Twisted>=13.2.0->watson-developer-cloud==1.5) (1.9.0)\nRequirement already satisfied: zope.interface>=4.4.2 in /opt/conda/envs/Python36/lib/python3.6/site-packages (from Twisted>=13.2.0->watson-developer-cloud==1.5) (4.6.0)\nRequirement already satisfied: constantly>=15.1 in /opt/conda/envs/Python36/lib/python3.6/site-packages (from Twisted>=13.2.0->watson-developer-cloud==1.5) (15.1.0)\nRequirement already satisfied: Automat>=0.3.0 in /opt/conda/envs/Python36/lib/python3.6/site-packages (from Twisted>=13.2.0->watson-developer-cloud==1.5) (0.7.0)\nRequirement already satisfied: incremental>=16.10.1 in /opt/conda/envs/Python36/lib/python3.6/site-packages (from Twisted>=13.2.0->watson-developer-cloud==1.5) (17.5.0)\nRequirement already satisfied: hyperlink>=17.1.1 in /opt/conda/envs/Python36/lib/python3.6/site-packages (from Twisted>=13.2.0->watson-developer-cloud==1.5) (19.0.0)\nRequirement already satisfied: six>=1.5 in /opt/conda/envs/Python36/lib/python3.6/site-packages (from python-dateutil>=2.5.3->watson-developer-cloud==1.5) (1.12.0)\nRequirement already satisfied: cryptography>=2.3 in /opt/conda/envs/Python36/lib/python3.6/site-packages (from pyOpenSSL>=16.2.0->watson-developer-cloud==1.5) (2.7)\nRequirement already satisfied: idna<2.9,>=2.5 in /opt/conda/envs/Python36/lib/python3.6/site-packages (from requests<3.0,>=2.0->watson-developer-cloud==1.5) (2.8)\nRequirement already satisfied: chardet<3.1.0,>=3.0.2 in /opt/conda/envs/Python36/lib/python3.6/site-packages (from requests<3.0,>=2.0->watson-developer-cloud==1.5) (3.0.4)\nRequirement already satisfied: urllib3<1.25,>=1.21.1 in /opt/conda/envs/Python36/lib/python3.6/site-packages (from requests<3.0,>=2.0->watson-developer-cloud==1.5) (1.24.1)\nRequirement already satisfied: certifi>=2017.4.17 in /opt/conda/envs/Python36/lib/python3.6/site-packages (from requests<3.0,>=2.0->watson-developer-cloud==1.5) (2019.6.16)\nRequirement already satisfied: pyasn1 in /opt/conda/envs/Python36/lib/python3.6/site-packages (from service-identity>=17.0.0->watson-developer-cloud==1.5) (0.4.5)\nRequirement already satisfied: pyasn1-modules in /opt/conda/envs/Python36/lib/python3.6/site-packages (from service-identity>=17.0.0->watson-developer-cloud==1.5) (0.2.5)\nRequirement already satisfied: txaio>=18.8.1 in /opt/conda/envs/Python36/lib/python3.6/site-packages (from autobahn>=0.10.9->watson-developer-cloud==1.5) (18.8.1)\nRequirement already satisfied: setuptools in /opt/conda/envs/Python36/lib/python3.6/site-packages (from PyHamcrest>=1.9.0->Twisted>=13.2.0->watson-developer-cloud==1.5) (40.8.0)\nRequirement already satisfied: cffi!=1.11.3,>=1.8 in /opt/conda/envs/Python36/lib/python3.6/site-packages (from cryptography>=2.3->pyOpenSSL>=16.2.0->watson-developer-cloud==1.5) (1.11.5)\nRequirement already satisfied: asn1crypto>=0.21.0 in /opt/conda/envs/Python36/lib/python3.6/site-packages (from cryptography>=2.3->pyOpenSSL>=16.2.0->watson-developer-cloud==1.5) (0.24.0)\nRequirement already satisfied: pycparser in /opt/conda/envs/Python36/lib/python3.6/site-packages (from cffi!=1.11.3,>=1.8->cryptography>=2.3->pyOpenSSL>=16.2.0->watson-developer-cloud==1.5) (2.19)\n"
                }
            ], 
            "source": "!pip install watson-developer-cloud==1.5"
        }, 
        {
            "source": "#### We start by importing the following libraries.", 
            "cell_type": "markdown", 
            "metadata": {}
        }, 
        {
            "execution_count": 2, 
            "cell_type": "code", 
            "metadata": {}, 
            "outputs": [], 
            "source": "import requests\nimport urllib.request\nimport time\nimport datetime\nimport csv\nimport re\nfrom bs4 import BeautifulSoup"
        }, 
        {
            "source": "#### I've pre-defined some redundant functions here so as to reduce the complexity and size of the code", 
            "cell_type": "markdown", 
            "metadata": {}
        }, 
        {
            "execution_count": 3, 
            "cell_type": "code", 
            "metadata": {}, 
            "outputs": [], 
            "source": "#function to check if we have access to the website\ndef access_to_server(a):\n    if(access.status_code == 200):\n        print(\"Access to PlaneCrashInfo.com: Granted\")\n    else:\n        print(\"Access to PlaneCrashInfo.com: Denied\")\n        \n#function to pause for a little so that the website server does not flag us as a spammer\ndef take_a_break():\n    time.sleep(0.1)      #we pause for 3 seconds\n\n#function to access the website\ndef access_website(url):\n    access = None\n    access = requests.get(url,timeout=10)\n    return access   \n\ndef get_data(search_string, regex):\n    pattern = re.compile(regex)\n    matches = pattern.finditer(search_string)\n\n    for match in matches:\n        match = match.span()\n\n    span = search_string[match[0]:match[1]]\n    return span"
        }, 
        {
            "source": "#### Next, we set the url to the Plane Crash Info website and access the site with our requests library. We also set the base url to create a dictionary with years as the key.", 
            "cell_type": "markdown", 
            "metadata": {}
        }, 
        {
            "execution_count": 4, 
            "cell_type": "code", 
            "metadata": {}, 
            "outputs": [
                {
                    "output_type": "stream", 
                    "name": "stdout", 
                    "text": "Access to PlaneCrashInfo.com: Granted\n"
                }
            ], 
            "source": "base_url = \"http://www.planecrashinfo.com\"\naccess = requests.get('http://www.planecrashinfo.com/database.htm')\naccess_to_server(access)\nsource = BeautifulSoup(access.text, 'html.parser')"
        }, 
        {
            "source": " #### Here we build a dictionary with the url stores as the value and the year as the key", 
            "cell_type": "markdown", 
            "metadata": {}
        }, 
        {
            "execution_count": 5, 
            "cell_type": "code", 
            "metadata": {}, 
            "outputs": [], 
            "source": "a_tags = source.find_all(\"a\")\nyears = {a.text.strip(): {\"url\": base_url + a[\"href\"] if a[\"href\"][0] == \"/\" else base_url + \"/\" + a[\"href\"]} for a in a_tags if a.text.strip().isdigit()}"
        }, 
        {
            "source": "#### Here we pause for a little to avoid getting flagged as a spammer.", 
            "cell_type": "markdown", 
            "metadata": {}
        }, 
        {
            "execution_count": 6, 
            "cell_type": "code", 
            "metadata": {}, 
            "outputs": [], 
            "source": "take_a_break()"
        }, 
        {
            "source": "#### Now we start collecting the unstructured data", 
            "cell_type": "markdown", 
            "metadata": {}
        }, 
        {
            "execution_count": 7, 
            "cell_type": "code", 
            "metadata": {}, 
            "outputs": [
                {
                    "output_type": "stream", 
                    "name": "stdout", 
                    "text": "1920\nAccess to PlaneCrashInfo.com: Granted\n1921\nAccess to PlaneCrashInfo.com: Granted\n1922\nAccess to PlaneCrashInfo.com: Granted\n1923\nAccess to PlaneCrashInfo.com: Granted\n1924\nAccess to PlaneCrashInfo.com: Granted\n1925\nAccess to PlaneCrashInfo.com: Granted\n1926\nAccess to PlaneCrashInfo.com: Granted\n1927\nAccess to PlaneCrashInfo.com: Granted\n1928\nAccess to PlaneCrashInfo.com: Granted\n1929\nAccess to PlaneCrashInfo.com: Granted\n1930\nAccess to PlaneCrashInfo.com: Granted\n1931\nAccess to PlaneCrashInfo.com: Granted\n1932\nAccess to PlaneCrashInfo.com: Granted\n1933\nAccess to PlaneCrashInfo.com: Granted\n1934\nAccess to PlaneCrashInfo.com: Granted\n1935\nAccess to PlaneCrashInfo.com: Granted\n1936\nAccess to PlaneCrashInfo.com: Granted\n1937\nAccess to PlaneCrashInfo.com: Granted\n1938\nAccess to PlaneCrashInfo.com: Granted\n1939\nAccess to PlaneCrashInfo.com: Granted\n1940\nAccess to PlaneCrashInfo.com: Granted\n1941\nAccess to PlaneCrashInfo.com: Granted\n1942\nAccess to PlaneCrashInfo.com: Granted\n1943\nAccess to PlaneCrashInfo.com: Granted\n1944\nAccess to PlaneCrashInfo.com: Granted\n1945\nAccess to PlaneCrashInfo.com: Granted\n1946\nAccess to PlaneCrashInfo.com: Granted\n1947\nAccess to PlaneCrashInfo.com: Granted\n1948\nAccess to PlaneCrashInfo.com: Granted\n1949\nAccess to PlaneCrashInfo.com: Granted\n1950\nAccess to PlaneCrashInfo.com: Granted\n1951\nAccess to PlaneCrashInfo.com: Granted\n1952\nAccess to PlaneCrashInfo.com: Granted\n1953\nAccess to PlaneCrashInfo.com: Granted\n1954\nAccess to PlaneCrashInfo.com: Granted\n1955\nAccess to PlaneCrashInfo.com: Granted\n1956\nAccess to PlaneCrashInfo.com: Granted\n1957\nAccess to PlaneCrashInfo.com: Granted\n1958\nAccess to PlaneCrashInfo.com: Granted\n1959\nAccess to PlaneCrashInfo.com: Granted\n1960\nAccess to PlaneCrashInfo.com: Granted\n1961\nAccess to PlaneCrashInfo.com: Granted\n1962\nAccess to PlaneCrashInfo.com: Granted\n1963\nAccess to PlaneCrashInfo.com: Granted\n1964\nAccess to PlaneCrashInfo.com: Granted\n1965\nAccess to PlaneCrashInfo.com: Granted\n1966\nAccess to PlaneCrashInfo.com: Granted\n1967\nAccess to PlaneCrashInfo.com: Granted\n1968\nAccess to PlaneCrashInfo.com: Granted\n1969\nAccess to PlaneCrashInfo.com: Granted\n1970\nAccess to PlaneCrashInfo.com: Granted\n"
                }, 
                {
                    "ename": "IndexError", 
                    "evalue": "list index out of range", 
                    "traceback": [
                        "\u001b[0;31m---------------------------------------------------------------------------\u001b[0m", 
                        "\u001b[0;31mIndexError\u001b[0m                                Traceback (most recent call last)", 
                        "\u001b[0;32m<ipython-input-7-e0d4c99061d9>\u001b[0m in \u001b[0;36m<module>\u001b[0;34m\u001b[0m\n\u001b[1;32m     22\u001b[0m             \u001b[0mdatabase\u001b[0m \u001b[0;34m=\u001b[0m \u001b[0;34m[\u001b[0m\u001b[0mtr\u001b[0m\u001b[0;34m.\u001b[0m\u001b[0mfind_all\u001b[0m\u001b[0;34m(\u001b[0m\u001b[0;34m\"td\"\u001b[0m\u001b[0;34m)\u001b[0m\u001b[0;34m[\u001b[0m\u001b[0;36m1\u001b[0m\u001b[0;34m]\u001b[0m\u001b[0;34m.\u001b[0m\u001b[0mtext\u001b[0m\u001b[0;34m.\u001b[0m\u001b[0mstrip\u001b[0m\u001b[0;34m(\u001b[0m\u001b[0;34m)\u001b[0m \u001b[0;32mfor\u001b[0m \u001b[0mtr\u001b[0m \u001b[0;32min\u001b[0m \u001b[0mtr_tags\u001b[0m\u001b[0;34m]\u001b[0m\u001b[0;34m\u001b[0m\u001b[0;34m\u001b[0m\u001b[0m\n\u001b[1;32m     23\u001b[0m             \u001b[0;31m# get all aboard\u001b[0m\u001b[0;34m\u001b[0m\u001b[0;34m\u001b[0m\u001b[0;34m\u001b[0m\u001b[0m\n\u001b[0;32m---> 24\u001b[0;31m             \u001b[0maboard\u001b[0m \u001b[0;34m=\u001b[0m \u001b[0mdatabase\u001b[0m\u001b[0;34m[\u001b[0m\u001b[0;36m9\u001b[0m\u001b[0;34m]\u001b[0m\u001b[0;34m\u001b[0m\u001b[0;34m\u001b[0m\u001b[0m\n\u001b[0m\u001b[1;32m     25\u001b[0m             \u001b[0mall_aboard\u001b[0m \u001b[0;34m=\u001b[0m \u001b[0mget_data\u001b[0m\u001b[0;34m(\u001b[0m\u001b[0maboard\u001b[0m\u001b[0;34m,\u001b[0m \u001b[0;34mr'^\\d+|^\\W'\u001b[0m\u001b[0;34m)\u001b[0m\u001b[0;34m\u001b[0m\u001b[0;34m\u001b[0m\u001b[0m\n\u001b[1;32m     26\u001b[0m \u001b[0;34m\u001b[0m\u001b[0m\n", 
                        "\u001b[0;31mIndexError\u001b[0m: list index out of range"
                    ], 
                    "output_type": "error"
                }
            ], 
            "source": "done = 0\nfor year, database in years.items():       #first we loop for each year from 1920 until 2019\n    print(year)\n    take_a_break()\n    response_year = access_website(database[\"url\"])\n    access_to_server(response_year)\n    parser_year = BeautifulSoup(response_year.content, 'html.parser')\n#    if done == 0:\n#        break\n    a_tags2 = parser_year.find_all(\"a\")\n    a_tags2 = [a for a in a_tags2 if \"Return to Home\" not in a.text]\n    for a in a_tags2:\n\n            # request to crash detail page\n            response_crash = access_website(base_url + \"/\" + year + a[\"href\"] if a[\"href\"][0] == \"/\" else base_url + \"/\" + year + \"/\" + a[\"href\"])\n            parser_crash = BeautifulSoup(response_crash.content, 'html.parser')\n\n            # get all table content except the first row(table title)\n            tr_tags = parser_crash.find_all(\"tr\")\n            tr_tags = tr_tags[1:]\n\n            database = [tr.find_all(\"td\")[1].text.strip() for tr in tr_tags]\n            # get all aboard\n            aboard = database[9]\n            all_aboard = get_data(aboard, r'^\\d+|^\\W')\n\n            # get all passengers aboard\n            passengers_aboard = get_data(aboard, r'(?<=\\(passengers:)\\d+|(?<=\\(passengers:)\\W')\n\n            # get all crew aboard\n            crew_aboard = get_data(\n                aboard, r'(?<=crew:)\\d+|(?<=crew:)\\W')\n\n            # get all fatalities\n            fatalities = database[10]\n\n            all_fatalities = get_data(fatalities, r'^\\d+|^\\W')\n\n            # get all passengers fatalities\n            passenger_fatalities = get_data(fatalities, r'(?<=\\(passengers:)\\d+|(?<=\\(passengers:)\\W')\n\n            # get all crew fatalities\n            crew_fatalities = get_data(fatalities, r'(?<=crew:)\\d+|(?<=crew:)\\W')\n\n            # remove aboard info and store each value separately\n            database.pop(9)\n            database.insert(9, all_aboard)\n            database.insert(10, passengers_aboard)\n            database.insert(11, crew_aboard)\n\n            # remove fatalities info and store each value separately\n            database.pop(12)\n            database.insert(12, all_fatalities)\n            database.insert(13, passenger_fatalities)\n            database.insert(14, crew_fatalities)\n            take_a_break()"
        }, 
        {
            "execution_count": 8, 
            "cell_type": "code", 
            "metadata": {}, 
            "outputs": [
                {
                    "execution_count": 8, 
                    "metadata": {}, 
                    "data": {
                        "text/plain": "[]"
                    }, 
                    "output_type": "execute_result"
                }
            ], 
            "source": "database"
        }, 
        {
            "execution_count": null, 
            "cell_type": "code", 
            "metadata": {}, 
            "outputs": [], 
            "source": ""
        }
    ], 
    "metadata": {
        "kernelspec": {
            "display_name": "Python 3.6", 
            "name": "python3", 
            "language": "python"
        }, 
        "language_info": {
            "mimetype": "text/x-python", 
            "nbconvert_exporter": "python", 
            "version": "3.6.8", 
            "name": "python", 
            "file_extension": ".py", 
            "pygments_lexer": "ipython3", 
            "codemirror_mode": {
                "version": 3, 
                "name": "ipython"
            }
        }
    }, 
    "nbformat": 4
}